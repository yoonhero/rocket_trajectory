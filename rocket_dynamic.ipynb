{
 "cells": [
  {
   "cell_type": "code",
   "execution_count": 1,
   "metadata": {},
   "outputs": [],
   "source": [
    "import numpy as np\n",
    "%matplotlib inline\n",
    "import matplotlib.pyplot as plt\n",
    "import seaborn as sns"
   ]
  },
  {
   "attachments": {},
   "cell_type": "markdown",
   "metadata": {},
   "source": [
    "Rocket Dynamics\n",
    "\n",
    "$$\n",
    "m_r \\frac{dv}{dt} = F_T - mg - \\frac{1}{2}C_{p}p_av|v|A\n",
    "$$\n",
    "\n",
    "$m_r: rocket mass$\n",
    "\n",
    "$v: rocket velocity$\n",
    "\n",
    "$F_T: thrust$\n",
    "\n",
    "$g: gravitional force$\n",
    "\n",
    "$p_a: ambient air density$\n",
    "\n",
    "$C_D: drag coefficient$\n",
    "\n",
    "$A: external cross sectional area$\n",
    "\n",
    "로켓의 질량 변화 또한 고려해야함. \n",
    "물로켓의 연소 종료 속도가 작지 않으므로 항력을 고려해야함. \n",
    "\n",
    "이를 계산해보면\n",
    "\n",
    "$$\n",
    "v_r = \\sqrt{-\\frac{g}{K}}tan(-\\sqrt{-gKt_c}+tan^{-1}(\\sqrt{-\\frac{K}{g}})v_{c,i})\n",
    "$$\n",
    "\n",
    "$$\n",
    "K = \\frac{C_Dp_aA_r}{2m_r}\n",
    "$$\n",
    "\n",
    "$v_{c,i}$: initial velocity of coasting flight"
   ]
  },
  {
   "cell_type": "code",
   "execution_count": null,
   "metadata": {},
   "outputs": [],
   "source": []
  },
  {
   "cell_type": "code",
   "execution_count": null,
   "metadata": {},
   "outputs": [],
   "source": []
  },
  {
   "cell_type": "code",
   "execution_count": null,
   "metadata": {},
   "outputs": [],
   "source": []
  }
 ],
 "metadata": {
  "kernelspec": {
   "display_name": "mlenv",
   "language": "python",
   "name": "python3"
  },
  "language_info": {
   "codemirror_mode": {
    "name": "ipython",
    "version": 3
   },
   "file_extension": ".py",
   "mimetype": "text/x-python",
   "name": "python",
   "nbconvert_exporter": "python",
   "pygments_lexer": "ipython3",
   "version": "3.10.4"
  },
  "orig_nbformat": 4,
  "vscode": {
   "interpreter": {
    "hash": "9d2639ffb07810fac2cedc92e08a41c0bae42ca785c48ccdb21dd6b5e60bd2fc"
   }
  }
 },
 "nbformat": 4,
 "nbformat_minor": 2
}
